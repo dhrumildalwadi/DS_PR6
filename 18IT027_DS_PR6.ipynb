{
  "nbformat": 4,
  "nbformat_minor": 0,
  "metadata": {
    "colab": {
      "name": "Data Preprocessing with Orange Tool.ipynb",
      "provenance": []
    },
    "kernelspec": {
      "name": "python3",
      "display_name": "Python 3"
    },
    "language_info": {
      "name": "python"
    }
  },
  "cells": [
    {
      "cell_type": "code",
      "metadata": {
        "id": "hy3QbSERS6Lr",
        "colab": {
          "base_uri": "https://localhost:8080/"
        },
        "outputId": "67a1faa7-fe5c-472d-baa9-a8e895e49ad9"
      },
      "source": [
        "!pip install Orange3\n",
        "import Orange"
      ],
      "execution_count": 1,
      "outputs": [
        {
          "output_type": "stream",
          "name": "stdout",
          "text": [
            "Requirement already satisfied: Orange3 in /usr/local/lib/python3.7/dist-packages (3.30.1)\n",
            "Requirement already satisfied: setuptools>=36.3 in /usr/local/lib/python3.7/dist-packages (from Orange3) (57.4.0)\n",
            "Requirement already satisfied: networkx in /usr/local/lib/python3.7/dist-packages (from Orange3) (2.6.3)\n",
            "Requirement already satisfied: orange-canvas-core<0.2a,>=0.1.21 in /usr/local/lib/python3.7/dist-packages (from Orange3) (0.1.22)\n",
            "Requirement already satisfied: pyyaml in /usr/local/lib/python3.7/dist-packages (from Orange3) (3.13)\n",
            "Requirement already satisfied: xlsxwriter in /usr/local/lib/python3.7/dist-packages (from Orange3) (3.0.1)\n",
            "Requirement already satisfied: keyring in /usr/local/lib/python3.7/dist-packages (from Orange3) (23.2.1)\n",
            "Requirement already satisfied: orange-widget-base>=4.14.0 in /usr/local/lib/python3.7/dist-packages (from Orange3) (4.15.0)\n",
            "Requirement already satisfied: keyrings.alt in /usr/local/lib/python3.7/dist-packages (from Orange3) (4.1.0)\n",
            "Requirement already satisfied: pyqtgraph>=0.11.1 in /usr/local/lib/python3.7/dist-packages (from Orange3) (0.12.3)\n",
            "Requirement already satisfied: AnyQt>=0.0.11 in /usr/local/lib/python3.7/dist-packages (from Orange3) (0.0.13)\n",
            "Requirement already satisfied: joblib>=0.9.4 in /usr/local/lib/python3.7/dist-packages (from Orange3) (1.0.1)\n",
            "Requirement already satisfied: openTSNE>=0.6.0 in /usr/local/lib/python3.7/dist-packages (from Orange3) (0.6.0)\n",
            "Requirement already satisfied: PyQtWebEngine>=5.12 in /usr/local/lib/python3.7/dist-packages (from Orange3) (5.15.5)\n",
            "Requirement already satisfied: numpy>=1.16.0 in /usr/local/lib/python3.7/dist-packages (from Orange3) (1.19.5)\n",
            "Requirement already satisfied: pygments>=2.8.0 in /usr/local/lib/python3.7/dist-packages (from Orange3) (2.10.0)\n",
            "Requirement already satisfied: xlrd>=0.9.2 in /usr/local/lib/python3.7/dist-packages (from Orange3) (1.1.0)\n",
            "Requirement already satisfied: httpx<0.20,>=0.14.0 in /usr/local/lib/python3.7/dist-packages (from Orange3) (0.19.0)\n",
            "Requirement already satisfied: matplotlib>=2.0.0 in /usr/local/lib/python3.7/dist-packages (from Orange3) (3.2.2)\n",
            "Requirement already satisfied: serverfiles in /usr/local/lib/python3.7/dist-packages (from Orange3) (0.3.1)\n",
            "Requirement already satisfied: scikit-learn!=0.23.0,>=0.22.0 in /usr/local/lib/python3.7/dist-packages (from Orange3) (0.22.2.post1)\n",
            "Requirement already satisfied: baycomp>=1.0.2 in /usr/local/lib/python3.7/dist-packages (from Orange3) (1.0.2)\n",
            "Requirement already satisfied: openpyxl in /usr/local/lib/python3.7/dist-packages (from Orange3) (2.5.9)\n",
            "Requirement already satisfied: python-louvain>=0.13 in /usr/local/lib/python3.7/dist-packages (from Orange3) (0.15)\n",
            "Requirement already satisfied: pandas>=1.0.0 in /usr/local/lib/python3.7/dist-packages (from Orange3) (1.1.5)\n",
            "Requirement already satisfied: scipy>=0.16.1 in /usr/local/lib/python3.7/dist-packages (from Orange3) (1.4.1)\n",
            "Requirement already satisfied: PyQt5!=5.15.1,>=5.12 in /usr/local/lib/python3.7/dist-packages (from Orange3) (5.15.5)\n",
            "Requirement already satisfied: bottleneck>=1.0.0 in /usr/local/lib/python3.7/dist-packages (from Orange3) (1.3.2)\n",
            "Requirement already satisfied: pip>=9.0 in /usr/local/lib/python3.7/dist-packages (from Orange3) (21.1.3)\n",
            "Requirement already satisfied: qtconsole>=4.7.2 in /usr/local/lib/python3.7/dist-packages (from Orange3) (5.1.1)\n",
            "Requirement already satisfied: requests in /usr/local/lib/python3.7/dist-packages (from Orange3) (2.23.0)\n",
            "Requirement already satisfied: chardet>=3.0.2 in /usr/local/lib/python3.7/dist-packages (from Orange3) (3.0.4)\n",
            "Requirement already satisfied: rfc3986[idna2008]<2,>=1.3 in /usr/local/lib/python3.7/dist-packages (from httpx<0.20,>=0.14.0->Orange3) (1.5.0)\n",
            "Requirement already satisfied: charset-normalizer in /usr/local/lib/python3.7/dist-packages (from httpx<0.20,>=0.14.0->Orange3) (2.0.6)\n",
            "Requirement already satisfied: httpcore<0.14.0,>=0.13.3 in /usr/local/lib/python3.7/dist-packages (from httpx<0.20,>=0.14.0->Orange3) (0.13.7)\n",
            "Requirement already satisfied: certifi in /usr/local/lib/python3.7/dist-packages (from httpx<0.20,>=0.14.0->Orange3) (2021.5.30)\n",
            "Requirement already satisfied: sniffio in /usr/local/lib/python3.7/dist-packages (from httpx<0.20,>=0.14.0->Orange3) (1.2.0)\n",
            "Requirement already satisfied: anyio==3.* in /usr/local/lib/python3.7/dist-packages (from httpcore<0.14.0,>=0.13.3->httpx<0.20,>=0.14.0->Orange3) (3.3.4)\n",
            "Requirement already satisfied: h11<0.13,>=0.11 in /usr/local/lib/python3.7/dist-packages (from httpcore<0.14.0,>=0.13.3->httpx<0.20,>=0.14.0->Orange3) (0.12.0)\n",
            "Requirement already satisfied: typing-extensions in /usr/local/lib/python3.7/dist-packages (from anyio==3.*->httpcore<0.14.0,>=0.13.3->httpx<0.20,>=0.14.0->Orange3) (3.7.4.3)\n",
            "Requirement already satisfied: idna>=2.8 in /usr/local/lib/python3.7/dist-packages (from anyio==3.*->httpcore<0.14.0,>=0.13.3->httpx<0.20,>=0.14.0->Orange3) (2.10)\n",
            "Requirement already satisfied: pyparsing!=2.0.4,!=2.1.2,!=2.1.6,>=2.0.1 in /usr/local/lib/python3.7/dist-packages (from matplotlib>=2.0.0->Orange3) (2.4.7)\n",
            "Requirement already satisfied: python-dateutil>=2.1 in /usr/local/lib/python3.7/dist-packages (from matplotlib>=2.0.0->Orange3) (2.8.2)\n",
            "Requirement already satisfied: cycler>=0.10 in /usr/local/lib/python3.7/dist-packages (from matplotlib>=2.0.0->Orange3) (0.10.0)\n",
            "Requirement already satisfied: kiwisolver>=1.0.1 in /usr/local/lib/python3.7/dist-packages (from matplotlib>=2.0.0->Orange3) (1.3.2)\n",
            "Requirement already satisfied: six in /usr/local/lib/python3.7/dist-packages (from cycler>=0.10->matplotlib>=2.0.0->Orange3) (1.15.0)\n",
            "Requirement already satisfied: dictdiffer in /usr/local/lib/python3.7/dist-packages (from orange-canvas-core<0.2a,>=0.1.21->Orange3) (0.9.0)\n",
            "Requirement already satisfied: importlib-metadata in /usr/local/lib/python3.7/dist-packages (from orange-canvas-core<0.2a,>=0.1.21->Orange3) (4.8.1)\n",
            "Requirement already satisfied: cachecontrol[filecache] in /usr/local/lib/python3.7/dist-packages (from orange-canvas-core<0.2a,>=0.1.21->Orange3) (0.12.6)\n",
            "Requirement already satisfied: qasync in /usr/local/lib/python3.7/dist-packages (from orange-canvas-core<0.2a,>=0.1.21->Orange3) (0.22.0)\n",
            "Requirement already satisfied: docutils in /usr/local/lib/python3.7/dist-packages (from orange-canvas-core<0.2a,>=0.1.21->Orange3) (0.17.1)\n",
            "Requirement already satisfied: commonmark>=0.8.1 in /usr/local/lib/python3.7/dist-packages (from orange-canvas-core<0.2a,>=0.1.21->Orange3) (0.9.1)\n",
            "Requirement already satisfied: pytz>=2017.2 in /usr/local/lib/python3.7/dist-packages (from pandas>=1.0.0->Orange3) (2018.9)\n",
            "Requirement already satisfied: PyQt5-Qt5>=5.15.2 in /usr/local/lib/python3.7/dist-packages (from PyQt5!=5.15.1,>=5.12->Orange3) (5.15.2)\n",
            "Requirement already satisfied: PyQt5-sip<13,>=12.8 in /usr/local/lib/python3.7/dist-packages (from PyQt5!=5.15.1,>=5.12->Orange3) (12.9.0)\n",
            "Requirement already satisfied: PyQtWebEngine-Qt5>=5.15.2 in /usr/local/lib/python3.7/dist-packages (from PyQtWebEngine>=5.12->Orange3) (5.15.2)\n",
            "Requirement already satisfied: traitlets in /usr/local/lib/python3.7/dist-packages (from qtconsole>=4.7.2->Orange3) (5.1.0)\n",
            "Requirement already satisfied: ipykernel>=4.1 in /usr/local/lib/python3.7/dist-packages (from qtconsole>=4.7.2->Orange3) (4.10.1)\n",
            "Requirement already satisfied: qtpy in /usr/local/lib/python3.7/dist-packages (from qtconsole>=4.7.2->Orange3) (1.11.2)\n",
            "Requirement already satisfied: jupyter-client>=4.1 in /usr/local/lib/python3.7/dist-packages (from qtconsole>=4.7.2->Orange3) (5.3.5)\n",
            "Requirement already satisfied: ipython-genutils in /usr/local/lib/python3.7/dist-packages (from qtconsole>=4.7.2->Orange3) (0.2.0)\n",
            "Requirement already satisfied: jupyter-core in /usr/local/lib/python3.7/dist-packages (from qtconsole>=4.7.2->Orange3) (4.8.1)\n",
            "Requirement already satisfied: pyzmq>=17.1 in /usr/local/lib/python3.7/dist-packages (from qtconsole>=4.7.2->Orange3) (22.3.0)\n",
            "Requirement already satisfied: ipython>=4.0.0 in /usr/local/lib/python3.7/dist-packages (from ipykernel>=4.1->qtconsole>=4.7.2->Orange3) (5.5.0)\n",
            "Requirement already satisfied: tornado>=4.0 in /usr/local/lib/python3.7/dist-packages (from ipykernel>=4.1->qtconsole>=4.7.2->Orange3) (5.1.1)\n",
            "Requirement already satisfied: simplegeneric>0.8 in /usr/local/lib/python3.7/dist-packages (from ipython>=4.0.0->ipykernel>=4.1->qtconsole>=4.7.2->Orange3) (0.8.1)\n",
            "Requirement already satisfied: pickleshare in /usr/local/lib/python3.7/dist-packages (from ipython>=4.0.0->ipykernel>=4.1->qtconsole>=4.7.2->Orange3) (0.7.5)\n",
            "Requirement already satisfied: decorator in /usr/local/lib/python3.7/dist-packages (from ipython>=4.0.0->ipykernel>=4.1->qtconsole>=4.7.2->Orange3) (4.4.2)\n",
            "Requirement already satisfied: prompt-toolkit<2.0.0,>=1.0.4 in /usr/local/lib/python3.7/dist-packages (from ipython>=4.0.0->ipykernel>=4.1->qtconsole>=4.7.2->Orange3) (1.0.18)\n",
            "Requirement already satisfied: pexpect in /usr/local/lib/python3.7/dist-packages (from ipython>=4.0.0->ipykernel>=4.1->qtconsole>=4.7.2->Orange3) (4.8.0)\n",
            "Requirement already satisfied: wcwidth in /usr/local/lib/python3.7/dist-packages (from prompt-toolkit<2.0.0,>=1.0.4->ipython>=4.0.0->ipykernel>=4.1->qtconsole>=4.7.2->Orange3) (0.2.5)\n",
            "Requirement already satisfied: msgpack>=0.5.2 in /usr/local/lib/python3.7/dist-packages (from cachecontrol[filecache]->orange-canvas-core<0.2a,>=0.1.21->Orange3) (1.0.2)\n",
            "Requirement already satisfied: lockfile>=0.9 in /usr/local/lib/python3.7/dist-packages (from cachecontrol[filecache]->orange-canvas-core<0.2a,>=0.1.21->Orange3) (0.12.2)\n",
            "Requirement already satisfied: zipp>=0.5 in /usr/local/lib/python3.7/dist-packages (from importlib-metadata->orange-canvas-core<0.2a,>=0.1.21->Orange3) (3.6.0)\n",
            "Requirement already satisfied: SecretStorage>=3.2 in /usr/local/lib/python3.7/dist-packages (from keyring->Orange3) (3.3.1)\n",
            "Requirement already satisfied: jeepney>=0.4.2 in /usr/local/lib/python3.7/dist-packages (from keyring->Orange3) (0.7.1)\n",
            "Requirement already satisfied: cryptography>=2.0 in /usr/local/lib/python3.7/dist-packages (from SecretStorage>=3.2->keyring->Orange3) (35.0.0)\n",
            "Requirement already satisfied: cffi>=1.12 in /usr/local/lib/python3.7/dist-packages (from cryptography>=2.0->SecretStorage>=3.2->keyring->Orange3) (1.14.6)\n",
            "Requirement already satisfied: pycparser in /usr/local/lib/python3.7/dist-packages (from cffi>=1.12->cryptography>=2.0->SecretStorage>=3.2->keyring->Orange3) (2.20)\n",
            "Requirement already satisfied: jdcal in /usr/local/lib/python3.7/dist-packages (from openpyxl->Orange3) (1.4.1)\n",
            "Requirement already satisfied: et-xmlfile in /usr/local/lib/python3.7/dist-packages (from openpyxl->Orange3) (1.1.0)\n",
            "Requirement already satisfied: ptyprocess>=0.5 in /usr/local/lib/python3.7/dist-packages (from pexpect->ipython>=4.0.0->ipykernel>=4.1->qtconsole>=4.7.2->Orange3) (0.7.0)\n",
            "Requirement already satisfied: urllib3!=1.25.0,!=1.25.1,<1.26,>=1.21.1 in /usr/local/lib/python3.7/dist-packages (from requests->Orange3) (1.24.3)\n"
          ]
        }
      ]
    },
    {
      "cell_type": "code",
      "metadata": {
        "colab": {
          "base_uri": "https://localhost:8080/"
        },
        "id": "SkNC1g_yU2Sl",
        "outputId": "c3df01f3-0b5a-45c7-f7f7-f0a059715fe1"
      },
      "source": [
        "##Discretization\n",
        "brown = Orange.data.Table(\"iris.tab\")\n",
        "disc = Orange.preprocess.Discretize()\n",
        "disc.method = Orange.preprocess.discretize.EqualFreq(n=3)\n",
        "d_brown = disc(brown)\n",
        "\n",
        "print(\"Original dataset:\")\n",
        "for e in brown[:3]:\n",
        "    print(e)\n",
        "\n",
        "print(\"Discretized dataset:\")\n",
        "for e in d_brown[:3]:\n",
        "    print(e)"
      ],
      "execution_count": 2,
      "outputs": [
        {
          "output_type": "stream",
          "name": "stdout",
          "text": [
            "Original dataset:\n",
            "[5.1, 3.5, 1.4, 0.2 | Iris-setosa]\n",
            "[4.9, 3.0, 1.4, 0.2 | Iris-setosa]\n",
            "[4.7, 3.2, 1.3, 0.2 | Iris-setosa]\n",
            "Discretized dataset:\n",
            "[< 5.45, ≥ 3.15, < 2.45, < 0.8 | Iris-setosa]\n",
            "[< 5.45, 2.85 - 3.15, < 2.45, < 0.8 | Iris-setosa]\n",
            "[< 5.45, ≥ 3.15, < 2.45, < 0.8 | Iris-setosa]\n"
          ]
        },
        {
          "output_type": "stream",
          "name": "stderr",
          "text": [
            "/usr/local/lib/python3.7/dist-packages/psycopg2/__init__.py:144: UserWarning: The psycopg2 wheel package will be renamed from release 2.8; in order to keep installing from binary please use \"pip install psycopg2-binary\" instead. For details see: <http://initd.org/psycopg/docs/install.html#binary-install-from-pypi>.\n",
            "  \"\"\")\n"
          ]
        }
      ]
    },
    {
      "cell_type": "code",
      "metadata": {
        "colab": {
          "base_uri": "https://localhost:8080/"
        },
        "id": "IaHo8QkdVkfS",
        "outputId": "b0d2f51f-bd8a-4011-93fa-b5de91c5452c"
      },
      "source": [
        "#Continuization\n",
        "titanic = Orange.data.Table(\"titanic\")\n",
        "continuizer = Orange.preprocess.Continuize()\n",
        "titanic1 = continuizer(titanic)\n",
        "\n",
        "print(\"Before Continuization:\\n\",titanic.domain)\n",
        "print(\"After Continuization:\\n\",titanic1.domain)\n",
        "\n",
        "\n",
        "#Look at specific data of row 10 in the table before and after continuization\n",
        "print(\"10th row data before: \",titanic[10])\n",
        "print(\"10th row data after:  \",titanic1[10])"
      ],
      "execution_count": 7,
      "outputs": [
        {
          "output_type": "stream",
          "name": "stdout",
          "text": [
            "Before Continuization:\n",
            " [status, age, sex | survived]\n",
            "After Continuization:\n",
            " [status=crew, status=first, status=second, status=third, age=adult, age=child, sex=female, sex=male | survived]\n",
            "10th row data before:  [first, adult, male | yes]\n",
            "10th row data after:   [0, 1, 0, 0, 1, 0, 0, 1 | yes]\n"
          ]
        }
      ]
    },
    {
      "cell_type": "code",
      "metadata": {
        "colab": {
          "base_uri": "https://localhost:8080/"
        },
        "id": "_wjImUGmWDQV",
        "outputId": "07d6e40a-5278-41be-a42e-62ca2a3d5630"
      },
      "source": [
        "#Normalization\n",
        "from Orange.preprocess import Normalize\n",
        "normalizer = Normalize(norm_type=Normalize.NormalizeBySpan)\n",
        "normalized_data = normalizer(brown)\n",
        "print(\"Before Normalization: \",brown[2])\n",
        "print(\"After noramlization:  \",normalized_data[2])"
      ],
      "execution_count": 8,
      "outputs": [
        {
          "output_type": "stream",
          "name": "stdout",
          "text": [
            "Before Normalization:  [4.7, 3.2, 1.3, 0.2 | Iris-setosa]\n",
            "After noramlization:   [0.1111, 0.50, 0.0508, 0.0417 | Iris-setosa]\n"
          ]
        }
      ]
    },
    {
      "cell_type": "code",
      "metadata": {
        "colab": {
          "base_uri": "https://localhost:8080/"
        },
        "id": "AKztNZ8-WNJS",
        "outputId": "390943dc-f109-49ed-e906-ad2d1d7668a8"
      },
      "source": [
        "#Randomization\n",
        "from Orange.preprocess import Randomize\n",
        "randomizer = Randomize(Randomize.RandomizeClasses)\n",
        "randomized_data = randomizer(brown)\n",
        "print(\"Before Randomization: \",brown[2])\n",
        "print(\"After Randomization:  \",randomized_data[2])"
      ],
      "execution_count": 6,
      "outputs": [
        {
          "output_type": "stream",
          "name": "stdout",
          "text": [
            "Before Randomization:  [4.7, 3.2, 1.3, 0.2 | Iris-setosa]\n",
            "After Randomization:   [4.7, 3.2, 1.3, 0.2 | Iris-setosa]\n"
          ]
        }
      ]
    }
  ]
}